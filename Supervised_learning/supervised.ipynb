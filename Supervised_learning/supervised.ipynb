{
 "cells": [
  {
   "cell_type": "code",
   "execution_count": 1,
   "id": "e749993b-6495-421b-a553-433f58474db2",
   "metadata": {},
   "outputs": [],
   "source": [
    "# Math library\n",
    "import numpy as np\n",
    "# Plotting library\n",
    "import matplotlib.pyplot as plt"
   ]
  },
  {
   "cell_type": "code",
   "execution_count": 2,
   "id": "72af63a7-da04-469f-960e-8fc5bb89a4d1",
   "metadata": {},
   "outputs": [
    {
     "name": "stdout",
     "output_type": "stream",
     "text": [
      "[0.03 0.19 0.34 0.46 0.78 0.81 1.08 1.18 1.39 1.6  1.65 1.9 ]\n",
      "[0.67 0.85 1.05 1.   1.4  1.5  1.3  1.54 1.55 1.68 1.73 1.6 ]\n"
     ]
    }
   ],
   "source": [
    "x = np.array([0.03, 0.19, 0.34, 0.46, 0.78, 0.81, 1.08, 1.18, 1.39, 1.60, 1.65, 1.90])\n",
    "y = np.array([0.67, 0.85, 1.05, 1.0, 1.40, 1.5, 1.3, 1.54, 1.55, 1.68, 1.73, 1.6 ])\n",
    "\n",
    "print(x)\n",
    "print(y)"
   ]
  },
  {
   "cell_type": "code",
   "execution_count": 3,
   "id": "ed44260c-3017-4937-820a-dbe84569c4cf",
   "metadata": {},
   "outputs": [],
   "source": [
    "def f(x, phi0, phi1):\n",
    "  # TODO :  Replace this line with the linear regression model (eq 2.4)\n",
    "  y = x\n",
    "\n",
    "  return y"
   ]
  },
  {
   "cell_type": "code",
   "execution_count": 5,
   "id": "f94f2b7b-879f-4d75-a4c5-be84113da7fd",
   "metadata": {},
   "outputs": [],
   "source": [
    "def plot(x, y, phi0, phi1):\n",
    "    fig,ax = plt.subplots()\n",
    "    ax.scatter(x,y)\n",
    "    plt.xlim([0,2.0])\n",
    "    plt.ylim([0,2.0])\n",
    "    ax.set_xlabel('Input, x')\n",
    "    ax.set_ylabel('Output, y')\n",
    "    # Draw line\n",
    "    x_line = np.arange(0,2,0.01)\n",
    "    y_line = f(x_line, phi0, phi1)\n",
    "    plt.plot(x_line, y_line,'b-',lw=2)\n",
    "\n",
    "    plt.show()"
   ]
  },
  {
   "cell_type": "code",
   "execution_count": null,
   "id": "5f7b2768-2301-4a70-8dfe-1555fa3a8ca7",
   "metadata": {},
   "outputs": [],
   "source": []
  }
 ],
 "metadata": {
  "kernelspec": {
   "display_name": "Python 3 (ipykernel)",
   "language": "python",
   "name": "python3"
  },
  "language_info": {
   "codemirror_mode": {
    "name": "ipython",
    "version": 3
   },
   "file_extension": ".py",
   "mimetype": "text/x-python",
   "name": "python",
   "nbconvert_exporter": "python",
   "pygments_lexer": "ipython3",
   "version": "3.12.7"
  }
 },
 "nbformat": 4,
 "nbformat_minor": 5
}
